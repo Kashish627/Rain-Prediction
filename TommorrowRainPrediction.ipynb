{
  "nbformat": 4,
  "nbformat_minor": 0,
  "metadata": {
    "colab": {
      "name": "Untitled4.ipynb",
      "provenance": []
    },
    "kernelspec": {
      "name": "python3",
      "display_name": "Python 3"
    }
  },
  "cells": [
    {
      "cell_type": "markdown",
      "metadata": {
        "id": "8eSpOZfI0Dcu"
      },
      "source": [
        "#Importing libraries"
      ]
    },
    {
      "cell_type": "code",
      "metadata": {
        "id": "yGWJ9lhdz-eP"
      },
      "source": [
        "import numpy as np\r\n",
        "import pandas as pd"
      ],
      "execution_count": 128,
      "outputs": []
    },
    {
      "cell_type": "markdown",
      "metadata": {
        "id": "hUDysljI18u0"
      },
      "source": [
        "#Importing Dataset"
      ]
    },
    {
      "cell_type": "code",
      "metadata": {
        "id": "KsIMacGj17iT"
      },
      "source": [
        "dataset = pd.read_csv('weatherAUS.csv')\r\n",
        "X = dataset.iloc[:,[1,2,3,4,7,8,9,10,11,12,13,14,15,16,17,18,19,20,21]].values\r\n",
        "Y = dataset.iloc[:,-1].values"
      ],
      "execution_count": 129,
      "outputs": []
    },
    {
      "cell_type": "code",
      "metadata": {
        "colab": {
          "base_uri": "https://localhost:8080/"
        },
        "id": "lmk-Nsft31Jr",
        "outputId": "63a57eda-99a9-48b3-d4b0-931c48e54b48"
      },
      "source": [
        "print(X)"
      ],
      "execution_count": 130,
      "outputs": [
        {
          "output_type": "stream",
          "text": [
            "[['Albury' 13.4 22.9 ... 16.9 21.8 'No']\n",
            " ['Albury' 7.4 25.1 ... 17.2 24.3 'No']\n",
            " ['Albury' 12.9 25.7 ... 21.0 23.2 'No']\n",
            " ...\n",
            " ['Uluru' 5.4 26.9 ... 12.5 26.1 'No']\n",
            " ['Uluru' 7.8 27.0 ... 15.1 26.0 'No']\n",
            " ['Uluru' 14.9 nan ... 15.0 20.9 'No']]\n"
          ],
          "name": "stdout"
        }
      ]
    },
    {
      "cell_type": "code",
      "metadata": {
        "colab": {
          "base_uri": "https://localhost:8080/"
        },
        "id": "6WaCq0E033ej",
        "outputId": "97a64815-004c-47e6-b7f1-01be13c670f1"
      },
      "source": [
        "print(Y)"
      ],
      "execution_count": 131,
      "outputs": [
        {
          "output_type": "stream",
          "text": [
            "['No' 'No' 'No' ... 'No' 'No' nan]\n"
          ],
          "name": "stdout"
        }
      ]
    },
    {
      "cell_type": "code",
      "metadata": {
        "id": "YbemIbgA68O-"
      },
      "source": [
        "Y = Y.reshape(-1,1)"
      ],
      "execution_count": 132,
      "outputs": []
    },
    {
      "cell_type": "markdown",
      "metadata": {
        "id": "MHIv1iaT4O8A"
      },
      "source": [
        "#Dealing with invalid Data"
      ]
    },
    {
      "cell_type": "code",
      "metadata": {
        "id": "E_y92J5-345v"
      },
      "source": [
        "from sklearn.impute import SimpleImputer\r\n",
        "imputer = SimpleImputer(missing_values=np.nan,strategy='most_frequent')\r\n",
        "X = imputer.fit_transform(X)\r\n",
        "Y = imputer.fit_transform(Y)"
      ],
      "execution_count": 133,
      "outputs": []
    },
    {
      "cell_type": "code",
      "metadata": {
        "colab": {
          "base_uri": "https://localhost:8080/"
        },
        "id": "XPwVYJ2g5CG_",
        "outputId": "7c808a12-d6c1-4973-8c02-18f9bf9e85cd"
      },
      "source": [
        "print(X)"
      ],
      "execution_count": 134,
      "outputs": [
        {
          "output_type": "stream",
          "text": [
            "[['Albury' 13.4 22.9 ... 16.9 21.8 'No']\n",
            " ['Albury' 7.4 25.1 ... 17.2 24.3 'No']\n",
            " ['Albury' 12.9 25.7 ... 21.0 23.2 'No']\n",
            " ...\n",
            " ['Uluru' 5.4 26.9 ... 12.5 26.1 'No']\n",
            " ['Uluru' 7.8 27.0 ... 15.1 26.0 'No']\n",
            " ['Uluru' 14.9 20.0 ... 15.0 20.9 'No']]\n"
          ],
          "name": "stdout"
        }
      ]
    },
    {
      "cell_type": "code",
      "metadata": {
        "colab": {
          "base_uri": "https://localhost:8080/"
        },
        "id": "n5m3o-8x6ZWZ",
        "outputId": "5e27755e-7882-4f14-8df2-36503bfac35f"
      },
      "source": [
        "print(Y)"
      ],
      "execution_count": 135,
      "outputs": [
        {
          "output_type": "stream",
          "text": [
            "[['No']\n",
            " ['No']\n",
            " ['No']\n",
            " ...\n",
            " ['No']\n",
            " ['No']\n",
            " ['No']]\n"
          ],
          "name": "stdout"
        }
      ]
    },
    {
      "cell_type": "markdown",
      "metadata": {
        "id": "r2_RFG2N6zXN"
      },
      "source": [
        "#Encoding Dataset"
      ]
    },
    {
      "cell_type": "code",
      "metadata": {
        "id": "2N_ESqUX6wZC"
      },
      "source": [
        "from sklearn.preprocessing import LabelEncoder\r\n",
        "le1 = LabelEncoder()\r\n",
        "X[:,0] = le1.fit_transform(X[:,0])\r\n",
        "le2 = LabelEncoder()\r\n",
        "X[:,4] = le2.fit_transform(X[:,4])\r\n",
        "le3 = LabelEncoder()\r\n",
        "X[:,6] = le3.fit_transform(X[:,6])\r\n",
        "le4 = LabelEncoder()\r\n",
        "X[:,7] = le4.fit_transform(X[:,7])\r\n",
        "le5 = LabelEncoder()\r\n",
        "X[:,-1] = le5.fit_transform(X[:,-1])\r\n",
        "le6 = LabelEncoder()\r\n",
        "Y[:,-1] = le6.fit_transform(Y[:,-1])"
      ],
      "execution_count": 136,
      "outputs": []
    },
    {
      "cell_type": "code",
      "metadata": {
        "colab": {
          "base_uri": "https://localhost:8080/"
        },
        "id": "Oj8Oj8iV8EIT",
        "outputId": "1fb5d1d1-3a41-4f46-b485-23728a4924d5"
      },
      "source": [
        "print(X)"
      ],
      "execution_count": 137,
      "outputs": [
        {
          "output_type": "stream",
          "text": [
            "[[2 13.4 22.9 ... 16.9 21.8 0]\n",
            " [2 7.4 25.1 ... 17.2 24.3 0]\n",
            " [2 12.9 25.7 ... 21.0 23.2 0]\n",
            " ...\n",
            " [41 5.4 26.9 ... 12.5 26.1 0]\n",
            " [41 7.8 27.0 ... 15.1 26.0 0]\n",
            " [41 14.9 20.0 ... 15.0 20.9 0]]\n"
          ],
          "name": "stdout"
        }
      ]
    },
    {
      "cell_type": "code",
      "metadata": {
        "colab": {
          "base_uri": "https://localhost:8080/"
        },
        "id": "Nxi3qYsa9nyg",
        "outputId": "a9960ad8-5c80-4df4-85c6-97fed5acb909"
      },
      "source": [
        "print(Y)"
      ],
      "execution_count": 138,
      "outputs": [
        {
          "output_type": "stream",
          "text": [
            "[[0]\n",
            " [0]\n",
            " [0]\n",
            " ...\n",
            " [0]\n",
            " [0]\n",
            " [0]]\n"
          ],
          "name": "stdout"
        }
      ]
    },
    {
      "cell_type": "code",
      "metadata": {
        "colab": {
          "base_uri": "https://localhost:8080/"
        },
        "id": "NUml4zNfEVcQ",
        "outputId": "ae265bb7-9e56-486f-fb55-29b489243b0b"
      },
      "source": [
        "Y = np.array(Y,dtype=float)\r\n",
        "print(Y)"
      ],
      "execution_count": 139,
      "outputs": [
        {
          "output_type": "stream",
          "text": [
            "[[0.]\n",
            " [0.]\n",
            " [0.]\n",
            " ...\n",
            " [0.]\n",
            " [0.]\n",
            " [0.]]\n"
          ],
          "name": "stdout"
        }
      ]
    },
    {
      "cell_type": "markdown",
      "metadata": {
        "id": "A8ZyRLlk8_PZ"
      },
      "source": [
        "#Feature Scaling"
      ]
    },
    {
      "cell_type": "code",
      "metadata": {
        "id": "2XXzjA8k8FMs"
      },
      "source": [
        "from sklearn.preprocessing import StandardScaler\r\n",
        "sc = StandardScaler()\r\n",
        "X = sc.fit_transform(X)"
      ],
      "execution_count": 140,
      "outputs": []
    },
    {
      "cell_type": "code",
      "metadata": {
        "colab": {
          "base_uri": "https://localhost:8080/"
        },
        "id": "VHGXacqY-Jrg",
        "outputId": "d308bead-7472-412b-83e2-2c7edf6f4f6b"
      },
      "source": [
        "print(X)"
      ],
      "execution_count": 141,
      "outputs": [
        {
          "output_type": "stream",
          "text": [
            "[[-1.53166617  0.19132753 -0.04135977 ... -0.01407077  0.02310362\n",
            "  -0.52979545]\n",
            " [-1.53166617 -0.75105231  0.26874452 ...  0.03244663  0.387799\n",
            "  -0.52979545]\n",
            " [-1.53166617  0.11279588  0.35331842 ...  0.62166712  0.22733303\n",
            "  -0.52979545]\n",
            " ...\n",
            " [ 1.20928479 -1.06517892  0.52246622 ... -0.69632607  0.65037966\n",
            "  -0.52979545]\n",
            " [ 1.20928479 -0.68822699  0.53656187 ... -0.29317521  0.63579185\n",
            "  -0.52979545]\n",
            " [ 1.20928479  0.42692249 -0.45013361 ... -0.30868102 -0.10818671\n",
            "  -0.52979545]]\n"
          ],
          "name": "stdout"
        }
      ]
    },
    {
      "cell_type": "markdown",
      "metadata": {
        "id": "aQDbMGGl-QST"
      },
      "source": [
        "#Splitting Dataset into Training set and Test set"
      ]
    },
    {
      "cell_type": "code",
      "metadata": {
        "id": "xpVKkTfM-KsN"
      },
      "source": [
        "from sklearn.model_selection import train_test_split\r\n",
        "X_train,X_test,Y_train,Y_test = train_test_split(X,Y,test_size=0.2,random_state=0)"
      ],
      "execution_count": 142,
      "outputs": []
    },
    {
      "cell_type": "code",
      "metadata": {
        "colab": {
          "base_uri": "https://localhost:8080/"
        },
        "id": "eA7K-Ygv_Z5b",
        "outputId": "b79f6299-e0f7-4c8c-c3fa-781129b30436"
      },
      "source": [
        "print(X_train)"
      ],
      "execution_count": 143,
      "outputs": [
        {
          "output_type": "stream",
          "text": [
            "[[ 0.22535368  1.03946939  0.07140543 ...  0.68369032  0.08145488\n",
            "  -0.52979545]\n",
            " [ 1.42012717 -0.45263203  0.11369237 ... -0.41722163  0.22733303\n",
            "  -0.52979545]\n",
            " [ 0.50647685 -0.20133073 -0.14002932 ... -0.06058818 -0.02065982\n",
            "   1.88752093]\n",
            " ...\n",
            " [ 1.0687232   0.75675544  0.93124006 ...  1.10234698  1.07342629\n",
            "  -0.52979545]\n",
            " [ 0.57675765 -0.04426743 -0.16822062 ...  0.01694083 -0.28324049\n",
            "   1.88752093]\n",
            " [ 1.63096955 -0.0285611  -0.91529006 ... -0.35519842 -0.76463838\n",
            "  -0.52979545]]\n"
          ],
          "name": "stdout"
        }
      ]
    },
    {
      "cell_type": "code",
      "metadata": {
        "colab": {
          "base_uri": "https://localhost:8080/"
        },
        "id": "d2lROgxR_Z-e",
        "outputId": "4e940073-07de-4645-ee06-2f3c83c08586"
      },
      "source": [
        "print(Y_train)"
      ],
      "execution_count": 144,
      "outputs": [
        {
          "output_type": "stream",
          "text": [
            "[[1.]\n",
            " [0.]\n",
            " [0.]\n",
            " ...\n",
            " [0.]\n",
            " [0.]\n",
            " [0.]]\n"
          ],
          "name": "stdout"
        }
      ]
    },
    {
      "cell_type": "markdown",
      "metadata": {
        "id": "9wXaahXT-79-"
      },
      "source": [
        "#Training Model"
      ]
    },
    {
      "cell_type": "code",
      "metadata": {
        "colab": {
          "base_uri": "https://localhost:8080/"
        },
        "id": "dgXgeZ43-uih",
        "outputId": "ef91c184-d7ae-4cb6-f975-b1fde06b17a8"
      },
      "source": [
        "from sklearn.ensemble import RandomForestClassifier\r\n",
        "classifier = RandomForestClassifier(n_estimators=100,random_state=0)\r\n",
        "classifier.fit(X_train,Y_train)"
      ],
      "execution_count": 194,
      "outputs": [
        {
          "output_type": "stream",
          "text": [
            "/usr/local/lib/python3.7/dist-packages/ipykernel_launcher.py:3: DataConversionWarning: A column-vector y was passed when a 1d array was expected. Please change the shape of y to (n_samples,), for example using ravel().\n",
            "  This is separate from the ipykernel package so we can avoid doing imports until\n"
          ],
          "name": "stderr"
        },
        {
          "output_type": "execute_result",
          "data": {
            "text/plain": [
              "RandomForestClassifier(bootstrap=True, ccp_alpha=0.0, class_weight=None,\n",
              "                       criterion='gini', max_depth=None, max_features='auto',\n",
              "                       max_leaf_nodes=None, max_samples=None,\n",
              "                       min_impurity_decrease=0.0, min_impurity_split=None,\n",
              "                       min_samples_leaf=1, min_samples_split=2,\n",
              "                       min_weight_fraction_leaf=0.0, n_estimators=100,\n",
              "                       n_jobs=None, oob_score=False, random_state=0, verbose=0,\n",
              "                       warm_start=False)"
            ]
          },
          "metadata": {
            "tags": []
          },
          "execution_count": 194
        }
      ]
    },
    {
      "cell_type": "code",
      "metadata": {
        "colab": {
          "base_uri": "https://localhost:8080/"
        },
        "id": "cuEeou4R_UFC",
        "outputId": "2934aa4d-cbe4-45f9-c545-68d29b1a9b71"
      },
      "source": [
        "classifier.score(X_train,Y_train)"
      ],
      "execution_count": 195,
      "outputs": [
        {
          "output_type": "execute_result",
          "data": {
            "text/plain": [
              "0.9999312525780283"
            ]
          },
          "metadata": {
            "tags": []
          },
          "execution_count": 195
        }
      ]
    },
    {
      "cell_type": "code",
      "metadata": {
        "colab": {
          "base_uri": "https://localhost:8080/"
        },
        "id": "54o6KevaEsvw",
        "outputId": "311cf167-f8f4-4248-ef74-59881e99f726"
      },
      "source": [
        "y_pred = le6.inverse_transform(np.array(classifier.predict(X_test),dtype=int))\r\n",
        "Y_test = le6.inverse_transform(np.array(Y_test,dtype=int))"
      ],
      "execution_count": 206,
      "outputs": [
        {
          "output_type": "stream",
          "text": [
            "/usr/local/lib/python3.7/dist-packages/sklearn/preprocessing/_label.py:289: DataConversionWarning: A column-vector y was passed when a 1d array was expected. Please change the shape of y to (n_samples, ), for example using ravel().\n",
            "  y = column_or_1d(y, warn=True)\n"
          ],
          "name": "stderr"
        }
      ]
    },
    {
      "cell_type": "code",
      "metadata": {
        "colab": {
          "base_uri": "https://localhost:8080/"
        },
        "id": "WxFvXuQzJr7T",
        "outputId": "37eb5f88-f821-40ac-fa87-e8fcfb2447e1"
      },
      "source": [
        "print(y_pred)"
      ],
      "execution_count": 211,
      "outputs": [
        {
          "output_type": "stream",
          "text": [
            "[['No']\n",
            " ['No']\n",
            " ['No']\n",
            " ...\n",
            " ['No']\n",
            " ['No']\n",
            " ['No']]\n"
          ],
          "name": "stdout"
        }
      ]
    },
    {
      "cell_type": "code",
      "metadata": {
        "colab": {
          "base_uri": "https://localhost:8080/"
        },
        "id": "xt5Uti-IJsFk",
        "outputId": "dc8e71fa-fba1-4cf7-d8ab-8e3eb355aeab"
      },
      "source": [
        "print(Y_test)"
      ],
      "execution_count": 212,
      "outputs": [
        {
          "output_type": "stream",
          "text": [
            "['Yes' 'Yes' 'No' ... 'Yes' 'No' 'No']\n"
          ],
          "name": "stdout"
        }
      ]
    },
    {
      "cell_type": "code",
      "metadata": {
        "id": "h6ZPXyGhFdtK"
      },
      "source": [
        "y_pred = y_pred.reshape(-1,1)\r\n",
        "Y_test = Y_test.reshape(-1,1)"
      ],
      "execution_count": 213,
      "outputs": []
    },
    {
      "cell_type": "code",
      "metadata": {
        "id": "oQsshF72E3Le"
      },
      "source": [
        "df = np.concatenate((Y_test,y_pred),axis=1)\r\n",
        "dataframe = pd.DataFrame(df,columns=['Rain on Tommorrow','Predition of Rain'])"
      ],
      "execution_count": 214,
      "outputs": []
    },
    {
      "cell_type": "code",
      "metadata": {
        "colab": {
          "base_uri": "https://localhost:8080/"
        },
        "id": "H_xbsXHSFVqu",
        "outputId": "4aa31cdc-a4cc-435e-83ba-7f58c682a505"
      },
      "source": [
        "print(dataframe)"
      ],
      "execution_count": 215,
      "outputs": [
        {
          "output_type": "stream",
          "text": [
            "      Rain on Tommorrow Predition of Rain\n",
            "0                   Yes                No\n",
            "1                   Yes                No\n",
            "2                    No                No\n",
            "3                    No               Yes\n",
            "4                    No                No\n",
            "...                 ...               ...\n",
            "29087                No               Yes\n",
            "29088                No                No\n",
            "29089               Yes                No\n",
            "29090                No                No\n",
            "29091                No                No\n",
            "\n",
            "[29092 rows x 2 columns]\n"
          ],
          "name": "stdout"
        }
      ]
    },
    {
      "cell_type": "markdown",
      "metadata": {
        "id": "yd9wEmlNFyE1"
      },
      "source": [
        "#Calculating Accuracy"
      ]
    },
    {
      "cell_type": "code",
      "metadata": {
        "colab": {
          "base_uri": "https://localhost:8080/"
        },
        "id": "8dpLQaQiFpPV",
        "outputId": "6b7aa976-cc3b-420f-eab9-4c9a62564bdd"
      },
      "source": [
        "from sklearn.metrics import accuracy_score\r\n",
        "accuracy_score(Y_test,y_pred)"
      ],
      "execution_count": 216,
      "outputs": [
        {
          "output_type": "execute_result",
          "data": {
            "text/plain": [
              "0.8521930427608965"
            ]
          },
          "metadata": {
            "tags": []
          },
          "execution_count": 216
        }
      ]
    }
  ]
}